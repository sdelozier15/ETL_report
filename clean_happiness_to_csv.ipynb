{
 "cells": [
  {
   "cell_type": "code",
   "execution_count": 9,
   "metadata": {},
   "outputs": [],
   "source": [
    "import pandas as pd"
   ]
  },
  {
   "cell_type": "code",
   "execution_count": 16,
   "metadata": {},
   "outputs": [],
   "source": [
    "file_to_load = \"raw_happiness.csv\"\n",
    "\n",
    "raw_happiness = pd.read_csv(file_to_load)\n",
    "raw_happy_df = pd.DataFrame(raw_happiness)\n",
    "raw_copy = raw_happy_df.copy()\n",
    "happy_droppedcols = raw_copy.drop(columns=['Whisker.high', 'Whisker.low', 'Dystopia.Residual'])\n",
    "happy_df_cleaned = happy_droppedcols.rename(columns={\"Happiness.Rank\": \"Happiness_rank\", \"Happiness.Score\": \"Happiness_score\", \"Economy..GDP.per.Capita.\": \"GDP_per_capita\", \"Health..Life.Expectancy.\": \"Life_expectancy\", \"Trust..Government.Corruption.\": \"Trust_gov\"})\n",
    "Year_data = 2017\n",
    "happy_df_cleaned['Year_data'] = Year_data\n",
    "happy_df_cleaned.to_csv('cleaned_happiness_reports.csv')"
   ]
  }
 ],
 "metadata": {
  "kernelspec": {
   "display_name": "Python 3",
   "language": "python",
   "name": "python3"
  },
  "language_info": {
   "codemirror_mode": {
    "name": "ipython",
    "version": 3
   },
   "file_extension": ".py",
   "mimetype": "text/x-python",
   "name": "python",
   "nbconvert_exporter": "python",
   "pygments_lexer": "ipython3",
   "version": "3.7.3"
  }
 },
 "nbformat": 4,
 "nbformat_minor": 2
}
